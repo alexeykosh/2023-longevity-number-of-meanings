{
 "cells": [
  {
   "cell_type": "code",
   "execution_count": 39,
   "metadata": {},
   "outputs": [],
   "source": [
    "# open an xml file and extract the words and their definitions\n",
    "# and save them in a csv file\n",
    "\n",
    "import xml.etree.ElementTree as ET\n",
    "import csv\n",
    "from collections import defaultdict"
   ]
  },
  {
   "cell_type": "code",
   "execution_count": 40,
   "metadata": {},
   "outputs": [],
   "source": [
    "# open the xml file wiktionaryXfr2010.xml\n",
    "tree = ET.parse('wiktionaryXfr2010.xml')"
   ]
  },
  {
   "cell_type": "code",
   "execution_count": 41,
   "metadata": {},
   "outputs": [],
   "source": [
    "pos = []\n",
    "\n",
    "for elem in tree.iter(tag='lexeme'):\n",
    "    if elem.attrib['pos'] not in pos:\n",
    "        pos.append(elem.attrib['pos'])"
   ]
  },
  {
   "cell_type": "code",
   "execution_count": 42,
   "metadata": {},
   "outputs": [
    {
     "name": "stdout",
     "output_type": "stream",
     "text": [
      "['N', 'V', 'flex-verb', 'Adj', 'Adv', 'LocN', 'interj', 'flex-nom', 'pronom-pers', 'adj-num', 'conj', 'prép', 'NP', 'flex-adj', 'art-part', 'LocAdv', 'adj-pos', 'Vaux', 'flex-adv', 'pronom-rel', 'pronom-int', 'loc-phr', 'flex-interj', 'conj-coord', 'loc-pronom', 'LocV', 'LocAdj', 'loc-conj', 'loc-prep', 'pronom-pos', 'flex-pronom', 'loc-interj', 'flex-conj', 'pronom', 'adj-int', 'flex-suf', 'adj-excl', 'loc-post', 'loc']\n"
     ]
    }
   ],
   "source": [
    "# print unique pos\n",
    "print(pos)"
   ]
  },
  {
   "cell_type": "code",
   "execution_count": 43,
   "metadata": {},
   "outputs": [],
   "source": [
    "root = tree.getroot()"
   ]
  },
  {
   "cell_type": "code",
   "execution_count": 44,
   "metadata": {},
   "outputs": [],
   "source": [
    "definitions_dict = defaultdict(list)"
   ]
  },
  {
   "cell_type": "code",
   "execution_count": 45,
   "metadata": {},
   "outputs": [],
   "source": [
    "for entry in root.findall('.//entry'):\n",
    "    entry_form = entry.get('form')\n",
    "    lexemes = entry.findall('.//lexeme')\n",
    "    \n",
    "    for lexeme in lexemes:\n",
    "        pos = lexeme.get('pos')\n",
    "        \n",
    "        definitions = []\n",
    "        for definition in lexeme.findall('.//toplevel-def'):\n",
    "            gloss_element = definition.find('gloss')\n",
    "            if gloss_element is not None:\n",
    "                gloss = gloss_element.text\n",
    "            else:\n",
    "                gloss = None\n",
    "            examples = [example.text for example in definition.findall('example')]\n",
    "            definitions.append({'gloss': gloss, 'examples': examples})\n",
    "        # lower entry_form and remove accents\n",
    "        entry_form = entry_form.lower()\n",
    "        key = f\"{pos}-{entry_form}\"\n",
    "        definitions_dict[key].extend(definitions)\n"
   ]
  },
  {
   "cell_type": "code",
   "execution_count": 46,
   "metadata": {},
   "outputs": [
    {
     "name": "stdout",
     "output_type": "stream",
     "text": [
      "{'gloss': 'Personne qui squatte, qui occupe de façon illégale un bâtiment, un terrain.', 'examples': ['« Le squatter, y dit sir George Simpson, gouverneur des territoires de la baie d\\'Hudson, est celui qui s\\'établit sur un terrain sans titres de propriété. » (Edouar de Hailly, Les Américains sur le Pacifique, in \"La Revue des deux mondes\", 1859)']}\n",
      "{'gloss': \"Colon étasunien qui occupait illégalement une région de l'ouest des États-Unis.\", 'examples': [\"Les squatters, ces gens sans feu ni lieu, sans droit ni loi, reniés par toutes les nations, et qui sont la honte et le rebut de la population nord-américaine, s'avancent incessamment vers l'ouest, et de défrichements en défrichements, tentent de relancer les tribus indiennes de leurs derniers refuges. (Gustave Aimard, Les Trappeurs de l'Arkansas, 1858)\"]}\n",
      "{'gloss': \"aujourd'hui Personne sans domicile qui occupe, sans titre, une maison ou un appartement inoccupé.\", 'examples': []}\n"
     ]
    }
   ],
   "source": [
    "for _ in definitions_dict['N-squatter']:\n",
    "    print(_)"
   ]
  },
  {
   "cell_type": "code",
   "execution_count": 47,
   "metadata": {},
   "outputs": [],
   "source": [
    "# pickle the dictionary\n",
    "import pickle\n",
    "\n",
    "with open('.pickle', 'wb') as handle:\n",
    "    pickle.dump(definitions_dict, handle, protocol=pickle.HIGHEST_PROTOCOL)"
   ]
  }
 ],
 "metadata": {
  "kernelspec": {
   "display_name": "Python 3",
   "language": "python",
   "name": "python3"
  },
  "language_info": {
   "codemirror_mode": {
    "name": "ipython",
    "version": 3
   },
   "file_extension": ".py",
   "mimetype": "text/x-python",
   "name": "python",
   "nbconvert_exporter": "python",
   "pygments_lexer": "ipython3",
   "version": "3.11.3"
  },
  "orig_nbformat": 4
 },
 "nbformat": 4,
 "nbformat_minor": 2
}

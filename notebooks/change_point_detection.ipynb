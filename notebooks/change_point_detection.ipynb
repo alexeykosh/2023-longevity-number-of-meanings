{
 "cells": [
  {
   "cell_type": "code",
   "execution_count": 90,
   "metadata": {},
   "outputs": [],
   "source": [
    "import pandas as pd\n",
    "import pickle\n",
    "import matplotlib.pyplot as plt\n",
    "import seaborn as sns\n",
    "import numpy as np\n",
    "\n",
    "# prediction imports\n",
    "from sklearn.base import BaseEstimator, RegressorMixin\n",
    "from sklearn.model_selection import train_test_split\n",
    "from sklearn.metrics import explained_variance_score\n",
    "import ruptures as rpt\n",
    "\n",
    "from scipy.stats import probplot\n",
    "\n",
    "# sns.set_style('whitegrid')\n",
    "\n",
    "# plt.switch_backend('agg')\n",
    "\n",
    "sns.set(context='paper', style='whitegrid',  font_scale=1, font='Arial', \n",
    "        rc={\"axes.edgecolor\": \"black\", \"grid.color\": \"lightgrey\",\n",
    "            \"xtick.direction\": \"out\", \"ytick.direction\": \"out\"}) # font='DejaVu Sans',\n",
    "\n",
    "# plt.rcParams['xtick.direction'] = 'in'\n",
    "# plt.rcParams['ytick.direction'] = 'in'\n",
    "plt.rcParams['xtick.bottom'] = True\n",
    "plt.rcParams['ytick.left'] = True\n",
    "plt.rcParams['xtick.major.size'] = 3\n",
    "plt.rcParams['xtick.major.width'] = 1\n",
    "plt.rcParams['ytick.major.size'] = 3\n",
    "plt.rcParams['ytick.major.width'] = 1\n",
    "# no minor ticks\n",
    "plt.rcParams['xtick.minor.size'] = 0\n",
    "plt.rcParams['ytick.minor.size'] = 0\n",
    "# axlines should be thin\n",
    "plt.rcParams['axes.linewidth'] = 0.3\n",
    "plt.rcParams['lines.linewidth'] = 0.3"
   ]
  },
  {
   "cell_type": "markdown",
   "metadata": {},
   "source": [
    "### 1. Data examination"
   ]
  },
  {
   "cell_type": "code",
   "execution_count": 2,
   "metadata": {},
   "outputs": [
    {
     "data": {
      "text/html": [
       "<div>\n",
       "<style scoped>\n",
       "    .dataframe tbody tr th:only-of-type {\n",
       "        vertical-align: middle;\n",
       "    }\n",
       "\n",
       "    .dataframe tbody tr th {\n",
       "        vertical-align: top;\n",
       "    }\n",
       "\n",
       "    .dataframe thead th {\n",
       "        text-align: right;\n",
       "    }\n",
       "</style>\n",
       "<table border=\"1\" class=\"dataframe\">\n",
       "  <thead>\n",
       "    <tr style=\"text-align: right;\">\n",
       "      <th></th>\n",
       "      <th>lemma_</th>\n",
       "      <th>count</th>\n",
       "      <th>pos</th>\n",
       "      <th>lemma</th>\n",
       "      <th>freq</th>\n",
       "      <th>pos_fr</th>\n",
       "      <th>number_of_meanings</th>\n",
       "      <th>etymology</th>\n",
       "      <th>age</th>\n",
       "    </tr>\n",
       "  </thead>\n",
       "  <tbody>\n",
       "    <tr>\n",
       "      <th>0</th>\n",
       "      <td>salon@NOUN</td>\n",
       "      <td>31950</td>\n",
       "      <td>NOUN</td>\n",
       "      <td>salon</td>\n",
       "      <td>6.085083e-05</td>\n",
       "      <td>substantif</td>\n",
       "      <td>6</td>\n",
       "      <td>1550.0</td>\n",
       "      <td>470.0</td>\n",
       "    </tr>\n",
       "    <tr>\n",
       "      <th>1</th>\n",
       "      <td>humoriste@NOUN</td>\n",
       "      <td>2731</td>\n",
       "      <td>NOUN</td>\n",
       "      <td>humoriste</td>\n",
       "      <td>5.201365e-06</td>\n",
       "      <td>substantif</td>\n",
       "      <td>1</td>\n",
       "      <td>1578.0</td>\n",
       "      <td>442.0</td>\n",
       "    </tr>\n",
       "    <tr>\n",
       "      <th>2</th>\n",
       "      <td>caricaturiste@NOUN</td>\n",
       "      <td>983</td>\n",
       "      <td>NOUN</td>\n",
       "      <td>caricaturiste</td>\n",
       "      <td>1.872187e-06</td>\n",
       "      <td>substantif</td>\n",
       "      <td>1</td>\n",
       "      <td>1803.0</td>\n",
       "      <td>217.0</td>\n",
       "    </tr>\n",
       "    <tr>\n",
       "      <th>3</th>\n",
       "      <td>dessinateur@NOUN</td>\n",
       "      <td>9436</td>\n",
       "      <td>NOUN</td>\n",
       "      <td>dessinateur</td>\n",
       "      <td>1.797147e-05</td>\n",
       "      <td>substantif</td>\n",
       "      <td>2</td>\n",
       "      <td>1667.0</td>\n",
       "      <td>353.0</td>\n",
       "    </tr>\n",
       "    <tr>\n",
       "      <th>4</th>\n",
       "      <td>humoristique@ADJ</td>\n",
       "      <td>5340</td>\n",
       "      <td>ADJ</td>\n",
       "      <td>humoristique</td>\n",
       "      <td>1.017037e-05</td>\n",
       "      <td>adjectif</td>\n",
       "      <td>1</td>\n",
       "      <td>1801.0</td>\n",
       "      <td>219.0</td>\n",
       "    </tr>\n",
       "    <tr>\n",
       "      <th>5</th>\n",
       "      <td>organiser@VERB</td>\n",
       "      <td>107773</td>\n",
       "      <td>VERB</td>\n",
       "      <td>organiser</td>\n",
       "      <td>2.052606e-04</td>\n",
       "      <td>verbe</td>\n",
       "      <td>4</td>\n",
       "      <td>1510.0</td>\n",
       "      <td>510.0</td>\n",
       "    </tr>\n",
       "    <tr>\n",
       "      <th>6</th>\n",
       "      <td>humoriste@ADJ</td>\n",
       "      <td>185</td>\n",
       "      <td>ADJ</td>\n",
       "      <td>humoriste</td>\n",
       "      <td>3.523444e-07</td>\n",
       "      <td>adjectif</td>\n",
       "      <td>1</td>\n",
       "      <td>1578.0</td>\n",
       "      <td>442.0</td>\n",
       "    </tr>\n",
       "    <tr>\n",
       "      <th>7</th>\n",
       "      <td>comité@NOUN</td>\n",
       "      <td>70991</td>\n",
       "      <td>NOUN</td>\n",
       "      <td>comité</td>\n",
       "      <td>1.352069e-04</td>\n",
       "      <td>substantif</td>\n",
       "      <td>2</td>\n",
       "      <td>1652.0</td>\n",
       "      <td>368.0</td>\n",
       "    </tr>\n",
       "    <tr>\n",
       "      <th>8</th>\n",
       "      <td>mondial@ADJ</td>\n",
       "      <td>168240</td>\n",
       "      <td>ADJ</td>\n",
       "      <td>mondial</td>\n",
       "      <td>3.204239e-04</td>\n",
       "      <td>adjectif</td>\n",
       "      <td>1</td>\n",
       "      <td>1550.0</td>\n",
       "      <td>470.0</td>\n",
       "    </tr>\n",
       "    <tr>\n",
       "      <th>9</th>\n",
       "      <td>gus@NOUN</td>\n",
       "      <td>341</td>\n",
       "      <td>NOUN</td>\n",
       "      <td>gus</td>\n",
       "      <td>6.494565e-07</td>\n",
       "      <td>substantif</td>\n",
       "      <td>1</td>\n",
       "      <td>1954.0</td>\n",
       "      <td>66.0</td>\n",
       "    </tr>\n",
       "  </tbody>\n",
       "</table>\n",
       "</div>"
      ],
      "text/plain": [
       "               lemma_   count   pos          lemma          freq      pos_fr  \\\n",
       "0          salon@NOUN   31950  NOUN          salon  6.085083e-05  substantif   \n",
       "1      humoriste@NOUN    2731  NOUN      humoriste  5.201365e-06  substantif   \n",
       "2  caricaturiste@NOUN     983  NOUN  caricaturiste  1.872187e-06  substantif   \n",
       "3    dessinateur@NOUN    9436  NOUN    dessinateur  1.797147e-05  substantif   \n",
       "4    humoristique@ADJ    5340   ADJ   humoristique  1.017037e-05    adjectif   \n",
       "5      organiser@VERB  107773  VERB      organiser  2.052606e-04       verbe   \n",
       "6       humoriste@ADJ     185   ADJ      humoriste  3.523444e-07    adjectif   \n",
       "7         comité@NOUN   70991  NOUN         comité  1.352069e-04  substantif   \n",
       "8         mondial@ADJ  168240   ADJ        mondial  3.204239e-04    adjectif   \n",
       "9            gus@NOUN     341  NOUN            gus  6.494565e-07  substantif   \n",
       "\n",
       "   number_of_meanings  etymology    age  \n",
       "0                   6     1550.0  470.0  \n",
       "1                   1     1578.0  442.0  \n",
       "2                   1     1803.0  217.0  \n",
       "3                   2     1667.0  353.0  \n",
       "4                   1     1801.0  219.0  \n",
       "5                   4     1510.0  510.0  \n",
       "6                   1     1578.0  442.0  \n",
       "7                   2     1652.0  368.0  \n",
       "8                   1     1550.0  470.0  \n",
       "9                   1     1954.0   66.0  "
      ]
     },
     "execution_count": 2,
     "metadata": {},
     "output_type": "execute_result"
    }
   ],
   "source": [
    "data = pd.read_csv('../data/age_estimations.csv')\n",
    "data.head(10)"
   ]
  },
  {
   "cell_type": "code",
   "execution_count": 3,
   "metadata": {},
   "outputs": [],
   "source": [
    "# Text summary for the SI\n",
    "\n",
    "grouped_df = data.groupby('pos')\n",
    "\n",
    "def format_output(group):\n",
    "    pos = group['pos'].iloc[0]\n",
    "    lemmas = group.apply(lambda row: f\"{row['lemma']} ({row['etymology']})\", axis=1)\n",
    "    return f\"{pos.capitalize()}: {', '.join(lemmas)}\"\n",
    "\n",
    "formatted_text = '\\n'.join(grouped_df.apply(format_output))\n",
    "\n",
    "with open('../data/formatted_output.txt', 'w') as file:\n",
    "    file.write(formatted_text)\n"
   ]
  },
  {
   "cell_type": "code",
   "execution_count": 4,
   "metadata": {},
   "outputs": [
    {
     "data": {
      "text/plain": [
       "(10472, 9)"
      ]
     },
     "execution_count": 4,
     "metadata": {},
     "output_type": "execute_result"
    }
   ],
   "source": [
    "data.shape"
   ]
  },
  {
   "cell_type": "code",
   "execution_count": 5,
   "metadata": {},
   "outputs": [],
   "source": [
    "data['rank'] = data['count'].rank(ascending=False)"
   ]
  },
  {
   "cell_type": "code",
   "execution_count": 6,
   "metadata": {},
   "outputs": [
    {
     "data": {
      "text/plain": [
       "(10472, 10)"
      ]
     },
     "execution_count": 6,
     "metadata": {},
     "output_type": "execute_result"
    }
   ],
   "source": [
    "data.shape"
   ]
  },
  {
   "cell_type": "code",
   "execution_count": 7,
   "metadata": {},
   "outputs": [
    {
     "data": {
      "text/plain": [
       "0.5743117253482505"
      ]
     },
     "execution_count": 7,
     "metadata": {},
     "output_type": "execute_result"
    }
   ],
   "source": [
    "# number of senses / number of words\n",
    "data.shape[0] / data['number_of_meanings'].sum()"
   ]
  },
  {
   "cell_type": "code",
   "execution_count": 8,
   "metadata": {},
   "outputs": [],
   "source": [
    "# # with open('../data/lemma_freq.pkl', 'rb') as f:\n",
    "# #     lemma_freq = pickle.load(f)\n",
    "\n",
    "# # remove elements with count < 100\n",
    "# lemma_freq_ = {k: v for k, v in lemma_freq.items() if v['count'] > 100}\n",
    "\n",
    "# # get all the lemmas that have same pos as in data['pos']\n",
    "# lemma_freq_ = {k: v for k, v in lemma_freq_.items() if v['pos'] in data['pos'].unique()}\n",
    "\n",
    "# # share of lemmas that appeared after the 1500s \n",
    "# data.shape[0] / len(lemma_freq_)"
   ]
  },
  {
   "cell_type": "code",
   "execution_count": 9,
   "metadata": {},
   "outputs": [
    {
     "name": "stdout",
     "output_type": "stream",
     "text": [
      "1 12\n"
     ]
    }
   ],
   "source": [
    "# print min and max number of meanings\n",
    "print(data['number_of_meanings'].min(), data['number_of_meanings'].max())"
   ]
  },
  {
   "cell_type": "code",
   "execution_count": 10,
   "metadata": {},
   "outputs": [
    {
     "name": "stdout",
     "output_type": "stream",
     "text": [
      "36.0 520.0\n"
     ]
    }
   ],
   "source": [
    "# print min and max number of meanings\n",
    "print(data['age'].min(), data['age'].max())"
   ]
  },
  {
   "cell_type": "code",
   "execution_count": 11,
   "metadata": {},
   "outputs": [],
   "source": [
    "# del lemma_freq\n",
    "# del lemma_freq_"
   ]
  },
  {
   "cell_type": "code",
   "execution_count": 74,
   "metadata": {},
   "outputs": [
    {
     "data": {
      "image/png": "[encoded data removed]",
      "text/plain": [
       "<Figure size 1000x300 with 3 Axes>"
      ]
     },
     "metadata": {},
     "output_type": "display_data"
    }
   ],
   "source": [
    "# plot distribuion of frequency, age, number of meanings in data on the same plot with 3 subplots\n",
    "fig, ax = plt.subplots(1, 3, figsize=(10, 3))\n",
    "# first axis should be rank-frequency plot from data['count']\n",
    "sns.scatterplot(x='rank', y='freq', data=data, ax=ax[0], linewidth = 0)\n",
    "sns.histplot(data['age'], stat='count', ax=ax[1])\n",
    "sns.histplot(data['number_of_meanings'], stat='count', ax=ax[2], bins=10)\n",
    "# log scales in axes 0 and 2\n",
    "# 1 axis should be log-log\n",
    "ax[0].set_yscale('log')\n",
    "ax[0].set_xscale('log')\n",
    "ax[2].set_yscale('log')\n",
    "# ax[2].set_xlim(1)\n",
    "# remove y axis labels for axes 1 and 2\n",
    "ax[0].set_ylabel('Frequency (log-scaled)')\n",
    "ax[1].set_ylabel('Count')\n",
    "ax[2].set_ylabel('Count (log-scaled)')\n",
    "ax[0].set_xlabel('Rank')\n",
    "ax[1].set_xlabel('Age')\n",
    "ax[2].set_xlabel('Number of meanings')\n",
    "sns.despine()\n",
    "plt.show()"
   ]
  },
  {
   "cell_type": "markdown",
   "metadata": {},
   "source": [
    "### 2. Get frequencies from n-gram"
   ]
  },
  {
   "cell_type": "code",
   "execution_count": 11,
   "metadata": {},
   "outputs": [],
   "source": [
    "# def get_ngram(query, start_year=1800, end_year=2019, \n",
    "#             corpus='fr-2019'):\n",
    "#     time.sleep(np.random.uniform(0.5, 3))\n",
    "#     url = f'https://books.google.com/ngrams/json?content={query}&year_start={start_year}&year_end={end_year}&corpus={corpus}&smoothing=0'\n",
    "#     response = requests.get(url)\n",
    "#     data = response.json() \n",
    "#     return data[0]['timeseries'] if data else None"
   ]
  },
  {
   "cell_type": "code",
   "execution_count": 12,
   "metadata": {},
   "outputs": [],
   "source": [
    "# data_1800 = data[data['etymology'] >= 1800]\n",
    "# data_1800.shape"
   ]
  },
  {
   "cell_type": "code",
   "execution_count": 13,
   "metadata": {},
   "outputs": [],
   "source": [
    "# # get ngram frequencies for each word and save them in a long format with columns word, year, freq, etymology\n",
    "\n",
    "# freq = []\n",
    "# for i, row in tqdm(data_1800.iterrows(), total=data_1800.shape[0]):\n",
    "#     word = row['lemma']\n",
    "#     etymology = row['etymology']\n",
    "#     pos = row['pos']\n",
    "#     try:\n",
    "#         ngram = get_ngram(f'{word}_{pos}')\n",
    "#         if ngram:\n",
    "#             for i, freq_ in enumerate(ngram):\n",
    "#                 freq.append([word, i, freq_, etymology])\n",
    "#     except:\n",
    "#         pass\n",
    "\n",
    "# df1800_freq = pd.DataFrame(freq, columns=['word', 'year', 'freq', 'etymology'])"
   ]
  },
  {
   "cell_type": "code",
   "execution_count": 14,
   "metadata": {},
   "outputs": [],
   "source": [
    "# df1800_freq['freq_scaled'] = df1800_freq.groupby('word')['freq'].transform(lambda x: (x - x.min()) / (x.max() - x.min()))\n",
    "# # convert df so that each word appears only once and has a column where the frequency time-series is stored as numpy array\n",
    "# df1800_freq_ = df1800_freq.groupby('word')['freq_scaled'].apply(list).reset_index()\n",
    "# df1800_freq_['freq_scaled'] = df1800_freq_['freq_scaled'].apply(lambda x: np.array(x))\n",
    "# df1800_freq_['etymology'] = df1800_freq.groupby('word')['etymology'].apply(list).reset_index()['etymology'].apply(lambda x: x[0])"
   ]
  },
  {
   "cell_type": "code",
   "execution_count": 15,
   "metadata": {},
   "outputs": [],
   "source": [
    "# # only keep if freq_scaled shape is 220,\n",
    "# # if not, remove\n",
    "# df1800_freq_['freq_scaled_len'] = df1800_freq_['freq_scaled'].apply(lambda x: x.shape[0])\n",
    "# df1800_freq_ = df1800_freq_[df1800_freq_['freq_scaled_len'] == 220]"
   ]
  },
  {
   "cell_type": "code",
   "execution_count": 16,
   "metadata": {},
   "outputs": [],
   "source": [
    "# df1800_freq_.shape"
   ]
  },
  {
   "cell_type": "code",
   "execution_count": 23,
   "metadata": {},
   "outputs": [],
   "source": [
    "# df1800_freq_.to_csv('../data/df1800_freq_.csv', index=False)\n",
    "# open df1800_freq_\n",
    "df1800_freq_ = pd.read_csv('../data/df1800_freq_.csv')"
   ]
  },
  {
   "cell_type": "code",
   "execution_count": 24,
   "metadata": {},
   "outputs": [],
   "source": [
    "# convert strings in freq_scaled column to numpy arrays\n",
    "df1800_freq_['freq_scaled'] = df1800_freq_['freq_scaled'].apply(lambda x: np.array([float(i) for i in x[1:-1].split()]))"
   ]
  },
  {
   "cell_type": "markdown",
   "metadata": {},
   "source": [
    "### 3. Change point prediction"
   ]
  },
  {
   "cell_type": "code",
   "execution_count": 25,
   "metadata": {},
   "outputs": [],
   "source": [
    "class ChangePointRegressor(BaseEstimator, RegressorMixin):\n",
    "    def __init__(self, penalty=0.2, model=\"rbf\", jump=2):\n",
    "        self.penalty = penalty\n",
    "        self.model = model\n",
    "        self.jump = jump\n",
    "\n",
    "    def fit(self, X, y=None):\n",
    "        return self\n",
    "\n",
    "    def predict(self, X):\n",
    "        result = []\n",
    "\n",
    "        for time_series in X:\n",
    "            # add jump\n",
    "            algo = rpt.Pelt(model=self.model).fit(time_series)\n",
    "            change_point = algo.predict(pen=self.penalty)[0]\n",
    "            result.append(change_point)\n",
    "\n",
    "        return np.array(result)\n",
    "\n",
    "    def get_params(self, deep=True):\n",
    "        return {\"penalty\": self.penalty, \"model\": self.model, \"jump\": self.jump}\n",
    "\n",
    "    def set_params(self, **parameters):\n",
    "        for parameter, value in parameters.items():\n",
    "            setattr(self, parameter, value)\n",
    "        return self\n"
   ]
  },
  {
   "cell_type": "code",
   "execution_count": 26,
   "metadata": {},
   "outputs": [],
   "source": [
    "def prepare_data(df):\n",
    "    max_length = max(len(seq) for seq in df['freq_scaled'])\n",
    "    X = np.zeros((len(df), max_length))\n",
    "\n",
    "    for i, seq in enumerate(df['freq_scaled']):\n",
    "        X[i, :len(seq)] = seq\n",
    "\n",
    "    y = np.array(df['etymology'])\n",
    "    y = y - 1800\n",
    "    return X, y"
   ]
  },
  {
   "cell_type": "code",
   "execution_count": 27,
   "metadata": {},
   "outputs": [
    {
     "data": {
      "text/plain": [
       "(3960, 220)"
      ]
     },
     "execution_count": 27,
     "metadata": {},
     "output_type": "execute_result"
    }
   ],
   "source": [
    "X, y = prepare_data(df1800_freq_)\n",
    "X.shape"
   ]
  },
  {
   "cell_type": "code",
   "execution_count": 28,
   "metadata": {},
   "outputs": [],
   "source": [
    "X_train, X_test, y_train, y_test = train_test_split(X, y, test_size=.2, random_state=42)"
   ]
  },
  {
   "cell_type": "code",
   "execution_count": 29,
   "metadata": {},
   "outputs": [
    {
     "data": {
      "text/plain": [
       "(3168, 220)"
      ]
     },
     "execution_count": 29,
     "metadata": {},
     "output_type": "execute_result"
    }
   ],
   "source": [
    "X_train.shape"
   ]
  },
  {
   "cell_type": "code",
   "execution_count": 30,
   "metadata": {},
   "outputs": [],
   "source": [
    "# # use GridSearchCV to find the best penalty value for the classifier and the best model ('rbf', 'l1, 'l2')\n",
    "# from sklearn.model_selection import GridSearchCV\n",
    "\n",
    "# param_grid = {'penalty': np.linspace(0, 1, 10), 'model': ['rbf', 'l1', 'l2'], 'jump': np.arange(2, 20, 5)}\n",
    "\n",
    "# clf = GridSearchCV(ChangePointRegressor(), \n",
    "#                    param_grid, \n",
    "#                    cv=5, \n",
    "#                    scoring='explained_variance', \n",
    "#                    n_jobs=-1, \n",
    "#                    verbose=10)"
   ]
  },
  {
   "cell_type": "code",
   "execution_count": 31,
   "metadata": {},
   "outputs": [],
   "source": [
    "# clf.fit(X_train, y_train)"
   ]
  },
  {
   "cell_type": "code",
   "execution_count": 32,
   "metadata": {},
   "outputs": [],
   "source": [
    "# clf.best_params_"
   ]
  },
  {
   "cell_type": "code",
   "execution_count": 33,
   "metadata": {},
   "outputs": [],
   "source": [
    "# clf.best_score_"
   ]
  },
  {
   "cell_type": "code",
   "execution_count": 34,
   "metadata": {},
   "outputs": [],
   "source": [
    "# pass clf.best_params_ to ChangePointRegressor and fit it on the whole dataset\n",
    "# model = ChangePointRegressor(**clf.best_params_)\n",
    "model = ChangePointRegressor(penalty=0.1, model='l1', jump=2)\n",
    "model.fit(X_test, y_test)\n",
    "\n",
    "# plot predicted vs true\n",
    "y_pred = model.predict(X_test)"
   ]
  },
  {
   "cell_type": "code",
   "execution_count": 38,
   "metadata": {},
   "outputs": [
    {
     "data": {
      "image/png": "[encoded data removed]",
      "text/plain": [
       "<Figure size 500x500 with 2 Axes>"
      ]
     },
     "metadata": {},
     "output_type": "display_data"
    }
   ],
   "source": [
    "plt.figure(figsize=(5, 5))\n",
    "sns.histplot(x = y_test, \n",
    "             y = y_pred, \n",
    "             bins=20, \n",
    "             cbar=True, \n",
    "             cbar_kws=dict(shrink=.75),\n",
    "             thresh=1)\n",
    "sns.despine()\n",
    "plt.show()"
   ]
  },
  {
   "cell_type": "code",
   "execution_count": 39,
   "metadata": {},
   "outputs": [
    {
     "data": {
      "image/png": "[encoded data removed]",
      "text/plain": [
       "<Figure size 500x500 with 1 Axes>"
      ]
     },
     "metadata": {},
     "output_type": "display_data"
    }
   ],
   "source": [
    "plt.figure(figsize=(5, 5))\n",
    "plt.scatter(y_test, y_pred, alpha=0.2, color='black', s=10)\n",
    "# add a regplot\n",
    "sns.regplot(x=y_test, y=y_pred, scatter=False, color='blue', robust=True)\n",
    "plt.xlabel('True change point')\n",
    "plt.ylabel('Predicted change point')\n",
    "# add the amount of explained variance in top left corner\n",
    "plt.text(0.05, 0.95, f'R: {np.corrcoef(y_test, y_pred)[0, 1]:.3f}', \n",
    "         transform=plt.gca().transAxes, color='red')\n",
    "sns.despine()\n",
    "plt.show()"
   ]
  },
  {
   "cell_type": "code",
   "execution_count": 92,
   "metadata": {},
   "outputs": [
    {
     "name": "stderr",
     "output_type": "stream",
     "text": [
      "/var/folders/1c/pphtjl397rnbdcp94xmwzkqr0000gn/T/ipykernel_3091/720403692.py:29: UserWarning: Matplotlib is currently using agg, which is a non-GUI backend, so cannot show the figure.\n",
      "  plt.show()\n"
     ]
    }
   ],
   "source": [
    "fig, ax = plt.subplots(1, 3, figsize=(10, 3))\n",
    "\n",
    "sns.scatterplot(x=y_test, y=y_pred, alpha=0.2, ax=ax[0], size=5,\n",
    "                legend=False, linewidth=0)\n",
    "sns.regplot(x=y_test, y=y_pred, scatter=False, color='blue', robust=True, ax=ax[0])\n",
    "ax[0].set_xlabel('True change point')\n",
    "ax[0].set_ylabel('Predicted change point')\n",
    "ax[0].text(0.1, 0.95, f'R: {np.corrcoef(y_test, y_pred)[0, 1]:.3f}', \n",
    "           transform=ax[0].transAxes, color='black',\n",
    "           ha='center', va='center', fontsize=10)\n",
    "ax[0].text(-0.1, 1.05, 'A', transform=ax[0].transAxes, fontsize=14, fontweight='bold')\n",
    "\n",
    "sns.scatterplot(x=y_pred, y=y_test - y_pred, \n",
    "                s=20, ax=ax[1], linewidth=0, \n",
    "                alpha=0.2, size=5,\n",
    "                legend=False,)\n",
    "ax[1].set_xlabel('Predicted change point')\n",
    "ax[1].set_ylabel('Residuals')\n",
    "ax[1].text(-0.1, 1.05, 'B', transform=ax[1].transAxes, fontsize=14, fontweight='bold')\n",
    "\n",
    "sns.histplot(y=y_test - y_pred, bins=50, ax=ax[2])\n",
    "ax[2].set_ylabel('Residuals')\n",
    "ax[2].set_xlabel('Count')\n",
    "ax[2].text(-0.1, 1.05, 'C', transform=ax[2].transAxes, fontsize=14, fontweight='bold')\n",
    "\n",
    "plt.subplots_adjust(wspace=0.5)  # Adjust the horizontal space between subplots\n",
    "# sns.despine()\n",
    "\n",
    "plt.show()\n",
    "# save to pdf\n",
    "fig.savefig('../figures/age_estimations.pdf', bbox_inches='tight')"
   ]
  },
  {
   "cell_type": "markdown",
   "metadata": {},
   "source": [
    "### 4. Residual subsetting"
   ]
  },
  {
   "cell_type": "code",
   "execution_count": 43,
   "metadata": {},
   "outputs": [],
   "source": [
    "# pass clf.best_params_ to ChangePointRegressor and fit it on the whole dataset\n",
    "# model = ChangePointRegressor(**clf.best_params_)\n",
    "# model.fit(X, y)\n",
    "\n",
    "# plot predicted vs true\n",
    "y_ = model.predict(X)"
   ]
  },
  {
   "cell_type": "code",
   "execution_count": 44,
   "metadata": {},
   "outputs": [
    {
     "data": {
      "text/plain": [
       "(3960,)"
      ]
     },
     "execution_count": 44,
     "metadata": {},
     "output_type": "execute_result"
    }
   ],
   "source": [
    "y_.shape"
   ]
  },
  {
   "cell_type": "code",
   "execution_count": 45,
   "metadata": {},
   "outputs": [
    {
     "data": {
      "text/plain": [
       "(3960,)"
      ]
     },
     "execution_count": 45,
     "metadata": {},
     "output_type": "execute_result"
    }
   ],
   "source": [
    "y.shape"
   ]
  },
  {
   "cell_type": "code",
   "execution_count": 46,
   "metadata": {},
   "outputs": [],
   "source": [
    "df1800_freq_ = df1800_freq_.assign(residual = y - y_, prediction = y_, tlfi = y)"
   ]
  },
  {
   "cell_type": "code",
   "execution_count": 47,
   "metadata": {},
   "outputs": [],
   "source": [
    "# high = np.mean(y - y_) + 1 * np.std(y - y_)\n",
    "# low = np.mean(y - y_) - 1 * np.std(y - y_)\n",
    "high = 30\n",
    "low = -30"
   ]
  },
  {
   "cell_type": "code",
   "execution_count": 48,
   "metadata": {},
   "outputs": [
    {
     "data": {
      "text/plain": [
       "(2909, 7)"
      ]
     },
     "execution_count": 48,
     "metadata": {},
     "output_type": "execute_result"
    }
   ],
   "source": [
    "# only select words with residuals between high and low\n",
    "df1800_freq_ = df1800_freq_[(df1800_freq_['residual'] <= high) & (df1800_freq_['residual'] >= low)]\n",
    "df1800_freq_.shape"
   ]
  },
  {
   "cell_type": "code",
   "execution_count": 49,
   "metadata": {},
   "outputs": [],
   "source": [
    "data_1800 = data[data['etymology'] >= 1800]"
   ]
  },
  {
   "cell_type": "code",
   "execution_count": 50,
   "metadata": {},
   "outputs": [],
   "source": [
    "# select lemmas from data_1800 that are in df1800_freq_ by matching by lemmas and etymology\n",
    "data_1800_res = data_1800.merge(df1800_freq_, left_on=['lemma', 'etymology'], right_on=['word', 'etymology'], how='inner')"
   ]
  },
  {
   "cell_type": "code",
   "execution_count": 51,
   "metadata": {},
   "outputs": [],
   "source": [
    "data_1800_res.to_csv('../data/age_estimation_1800.csv', index=False)"
   ]
  },
  {
   "cell_type": "code",
   "execution_count": 52,
   "metadata": {},
   "outputs": [
    {
     "data": {
      "text/html": [
       "<div>\n",
       "<style scoped>\n",
       "    .dataframe tbody tr th:only-of-type {\n",
       "        vertical-align: middle;\n",
       "    }\n",
       "\n",
       "    .dataframe tbody tr th {\n",
       "        vertical-align: top;\n",
       "    }\n",
       "\n",
       "    .dataframe thead th {\n",
       "        text-align: right;\n",
       "    }\n",
       "</style>\n",
       "<table border=\"1\" class=\"dataframe\">\n",
       "  <thead>\n",
       "    <tr style=\"text-align: right;\">\n",
       "      <th></th>\n",
       "      <th>lemma_</th>\n",
       "      <th>count</th>\n",
       "      <th>pos</th>\n",
       "      <th>lemma</th>\n",
       "      <th>freq</th>\n",
       "      <th>pos_fr</th>\n",
       "      <th>number_of_meanings</th>\n",
       "      <th>etymology</th>\n",
       "      <th>age</th>\n",
       "      <th>rank</th>\n",
       "      <th>word</th>\n",
       "      <th>freq_scaled</th>\n",
       "      <th>freq_scaled_len</th>\n",
       "      <th>residual</th>\n",
       "      <th>prediction</th>\n",
       "      <th>tlfi</th>\n",
       "    </tr>\n",
       "  </thead>\n",
       "  <tbody>\n",
       "    <tr>\n",
       "      <th>0</th>\n",
       "      <td>caricaturiste@NOUN</td>\n",
       "      <td>983</td>\n",
       "      <td>NOUN</td>\n",
       "      <td>caricaturiste</td>\n",
       "      <td>1.872187e-06</td>\n",
       "      <td>substantif</td>\n",
       "      <td>1</td>\n",
       "      <td>1803.0</td>\n",
       "      <td>217.0</td>\n",
       "      <td>3292.0</td>\n",
       "      <td>caricaturiste</td>\n",
       "      <td>[0.01214608, 0.0, 0.0, 0.01131665, 0.02391518,...</td>\n",
       "      <td>220</td>\n",
       "      <td>-27.0</td>\n",
       "      <td>30</td>\n",
       "      <td>3.0</td>\n",
       "    </tr>\n",
       "    <tr>\n",
       "      <th>1</th>\n",
       "      <td>humoristique@ADJ</td>\n",
       "      <td>5340</td>\n",
       "      <td>ADJ</td>\n",
       "      <td>humoristique</td>\n",
       "      <td>1.017037e-05</td>\n",
       "      <td>adjectif</td>\n",
       "      <td>1</td>\n",
       "      <td>1801.0</td>\n",
       "      <td>219.0</td>\n",
       "      <td>921.0</td>\n",
       "      <td>humoristique</td>\n",
       "      <td>[0.00740750234, 0.00336974909, 0.0, 0.0, 0.001...</td>\n",
       "      <td>220</td>\n",
       "      <td>-29.0</td>\n",
       "      <td>30</td>\n",
       "      <td>1.0</td>\n",
       "    </tr>\n",
       "    <tr>\n",
       "      <th>2</th>\n",
       "      <td>marginaliser@VERB</td>\n",
       "      <td>1162</td>\n",
       "      <td>VERB</td>\n",
       "      <td>marginaliser</td>\n",
       "      <td>2.213104e-06</td>\n",
       "      <td>verbe</td>\n",
       "      <td>2</td>\n",
       "      <td>1964.0</td>\n",
       "      <td>56.0</td>\n",
       "      <td>2955.5</td>\n",
       "      <td>marginaliser</td>\n",
       "      <td>[0.0, 0.0, 0.0, 0.0, 0.0, 0.0, 0.0, 0.0, 0.0, ...</td>\n",
       "      <td>220</td>\n",
       "      <td>-6.0</td>\n",
       "      <td>170</td>\n",
       "      <td>164.0</td>\n",
       "    </tr>\n",
       "    <tr>\n",
       "      <th>3</th>\n",
       "      <td>gouvernemental@ADJ</td>\n",
       "      <td>13421</td>\n",
       "      <td>ADJ</td>\n",
       "      <td>gouvernemental</td>\n",
       "      <td>2.556116e-05</td>\n",
       "      <td>adjectif</td>\n",
       "      <td>2</td>\n",
       "      <td>1801.0</td>\n",
       "      <td>219.0</td>\n",
       "      <td>376.0</td>\n",
       "      <td>gouvernemental</td>\n",
       "      <td>[0.00765389316, 0.00502931695, 0.0, 0.00221860...</td>\n",
       "      <td>220</td>\n",
       "      <td>-29.0</td>\n",
       "      <td>30</td>\n",
       "      <td>1.0</td>\n",
       "    </tr>\n",
       "    <tr>\n",
       "      <th>4</th>\n",
       "      <td>confessionnel@ADJ</td>\n",
       "      <td>979</td>\n",
       "      <td>ADJ</td>\n",
       "      <td>confessionnel</td>\n",
       "      <td>1.864569e-06</td>\n",
       "      <td>adjectif</td>\n",
       "      <td>1</td>\n",
       "      <td>1863.0</td>\n",
       "      <td>157.0</td>\n",
       "      <td>3302.5</td>\n",
       "      <td>confessionnel</td>\n",
       "      <td>[0.00196332453, 0.00148856089, 0.0, 0.0, 0.0, ...</td>\n",
       "      <td>220</td>\n",
       "      <td>18.0</td>\n",
       "      <td>45</td>\n",
       "      <td>63.0</td>\n",
       "    </tr>\n",
       "    <tr>\n",
       "      <th>...</th>\n",
       "      <td>...</td>\n",
       "      <td>...</td>\n",
       "      <td>...</td>\n",
       "      <td>...</td>\n",
       "      <td>...</td>\n",
       "      <td>...</td>\n",
       "      <td>...</td>\n",
       "      <td>...</td>\n",
       "      <td>...</td>\n",
       "      <td>...</td>\n",
       "      <td>...</td>\n",
       "      <td>...</td>\n",
       "      <td>...</td>\n",
       "      <td>...</td>\n",
       "      <td>...</td>\n",
       "      <td>...</td>\n",
       "    </tr>\n",
       "    <tr>\n",
       "      <th>2907</th>\n",
       "      <td>concasseur@NOUN</td>\n",
       "      <td>103</td>\n",
       "      <td>NOUN</td>\n",
       "      <td>concasseur</td>\n",
       "      <td>1.961701e-07</td>\n",
       "      <td>substantif</td>\n",
       "      <td>1</td>\n",
       "      <td>1838.0</td>\n",
       "      <td>182.0</td>\n",
       "      <td>10380.5</td>\n",
       "      <td>concasseur</td>\n",
       "      <td>[0.0, 0.0, 0.0, 0.0, 0.0, 0.0, 0.0, 0.0, 0.0, ...</td>\n",
       "      <td>220</td>\n",
       "      <td>-17.0</td>\n",
       "      <td>55</td>\n",
       "      <td>38.0</td>\n",
       "    </tr>\n",
       "    <tr>\n",
       "      <th>2908</th>\n",
       "      <td>radiculaire@ADJ</td>\n",
       "      <td>114</td>\n",
       "      <td>ADJ</td>\n",
       "      <td>radiculaire</td>\n",
       "      <td>2.171203e-07</td>\n",
       "      <td>adjectif</td>\n",
       "      <td>1</td>\n",
       "      <td>1817.0</td>\n",
       "      <td>203.0</td>\n",
       "      <td>10020.0</td>\n",
       "      <td>radiculaire</td>\n",
       "      <td>[0.00143440433, 0.0, 0.0, 0.000890967778, 0.00...</td>\n",
       "      <td>220</td>\n",
       "      <td>7.0</td>\n",
       "      <td>10</td>\n",
       "      <td>17.0</td>\n",
       "    </tr>\n",
       "    <tr>\n",
       "      <th>2909</th>\n",
       "      <td>primitivisme@NOUN</td>\n",
       "      <td>103</td>\n",
       "      <td>NOUN</td>\n",
       "      <td>primitivisme</td>\n",
       "      <td>1.961701e-07</td>\n",
       "      <td>substantif</td>\n",
       "      <td>2</td>\n",
       "      <td>1904.0</td>\n",
       "      <td>116.0</td>\n",
       "      <td>10380.5</td>\n",
       "      <td>primitivisme</td>\n",
       "      <td>[0.0, 0.0, 0.0, 0.0, 0.0, 0.0, 0.0, 0.0, 0.0, ...</td>\n",
       "      <td>220</td>\n",
       "      <td>-1.0</td>\n",
       "      <td>105</td>\n",
       "      <td>104.0</td>\n",
       "    </tr>\n",
       "    <tr>\n",
       "      <th>2910</th>\n",
       "      <td>tartrique@ADJ</td>\n",
       "      <td>152</td>\n",
       "      <td>ADJ</td>\n",
       "      <td>tartrique</td>\n",
       "      <td>2.894938e-07</td>\n",
       "      <td>adjectif</td>\n",
       "      <td>1</td>\n",
       "      <td>1823.0</td>\n",
       "      <td>197.0</td>\n",
       "      <td>8954.5</td>\n",
       "      <td>tartrique</td>\n",
       "      <td>[0.0247239151, 0.0, 0.000503917288, 0.00043877...</td>\n",
       "      <td>220</td>\n",
       "      <td>3.0</td>\n",
       "      <td>20</td>\n",
       "      <td>23.0</td>\n",
       "    </tr>\n",
       "    <tr>\n",
       "      <th>2911</th>\n",
       "      <td>graphologie@NOUN</td>\n",
       "      <td>107</td>\n",
       "      <td>NOUN</td>\n",
       "      <td>graphologie</td>\n",
       "      <td>2.037884e-07</td>\n",
       "      <td>substantif</td>\n",
       "      <td>1</td>\n",
       "      <td>1877.0</td>\n",
       "      <td>143.0</td>\n",
       "      <td>10242.5</td>\n",
       "      <td>graphologie</td>\n",
       "      <td>[0.0, 0.00257161892, 0.0, 0.0, 0.0, 0.0, 0.0, ...</td>\n",
       "      <td>220</td>\n",
       "      <td>2.0</td>\n",
       "      <td>75</td>\n",
       "      <td>77.0</td>\n",
       "    </tr>\n",
       "  </tbody>\n",
       "</table>\n",
       "<p>2912 rows × 16 columns</p>\n",
       "</div>"
      ],
      "text/plain": [
       "                  lemma_  count   pos           lemma          freq  \\\n",
       "0     caricaturiste@NOUN    983  NOUN   caricaturiste  1.872187e-06   \n",
       "1       humoristique@ADJ   5340   ADJ    humoristique  1.017037e-05   \n",
       "2      marginaliser@VERB   1162  VERB    marginaliser  2.213104e-06   \n",
       "3     gouvernemental@ADJ  13421   ADJ  gouvernemental  2.556116e-05   \n",
       "4      confessionnel@ADJ    979   ADJ   confessionnel  1.864569e-06   \n",
       "...                  ...    ...   ...             ...           ...   \n",
       "2907     concasseur@NOUN    103  NOUN      concasseur  1.961701e-07   \n",
       "2908     radiculaire@ADJ    114   ADJ     radiculaire  2.171203e-07   \n",
       "2909   primitivisme@NOUN    103  NOUN    primitivisme  1.961701e-07   \n",
       "2910       tartrique@ADJ    152   ADJ       tartrique  2.894938e-07   \n",
       "2911    graphologie@NOUN    107  NOUN     graphologie  2.037884e-07   \n",
       "\n",
       "          pos_fr  number_of_meanings  etymology    age     rank  \\\n",
       "0     substantif                   1     1803.0  217.0   3292.0   \n",
       "1       adjectif                   1     1801.0  219.0    921.0   \n",
       "2          verbe                   2     1964.0   56.0   2955.5   \n",
       "3       adjectif                   2     1801.0  219.0    376.0   \n",
       "4       adjectif                   1     1863.0  157.0   3302.5   \n",
       "...          ...                 ...        ...    ...      ...   \n",
       "2907  substantif                   1     1838.0  182.0  10380.5   \n",
       "2908    adjectif                   1     1817.0  203.0  10020.0   \n",
       "2909  substantif                   2     1904.0  116.0  10380.5   \n",
       "2910    adjectif                   1     1823.0  197.0   8954.5   \n",
       "2911  substantif                   1     1877.0  143.0  10242.5   \n",
       "\n",
       "                word                                        freq_scaled  \\\n",
       "0      caricaturiste  [0.01214608, 0.0, 0.0, 0.01131665, 0.02391518,...   \n",
       "1       humoristique  [0.00740750234, 0.00336974909, 0.0, 0.0, 0.001...   \n",
       "2       marginaliser  [0.0, 0.0, 0.0, 0.0, 0.0, 0.0, 0.0, 0.0, 0.0, ...   \n",
       "3     gouvernemental  [0.00765389316, 0.00502931695, 0.0, 0.00221860...   \n",
       "4      confessionnel  [0.00196332453, 0.00148856089, 0.0, 0.0, 0.0, ...   \n",
       "...              ...                                                ...   \n",
       "2907      concasseur  [0.0, 0.0, 0.0, 0.0, 0.0, 0.0, 0.0, 0.0, 0.0, ...   \n",
       "2908     radiculaire  [0.00143440433, 0.0, 0.0, 0.000890967778, 0.00...   \n",
       "2909    primitivisme  [0.0, 0.0, 0.0, 0.0, 0.0, 0.0, 0.0, 0.0, 0.0, ...   \n",
       "2910       tartrique  [0.0247239151, 0.0, 0.000503917288, 0.00043877...   \n",
       "2911     graphologie  [0.0, 0.00257161892, 0.0, 0.0, 0.0, 0.0, 0.0, ...   \n",
       "\n",
       "      freq_scaled_len  residual  prediction   tlfi  \n",
       "0                 220     -27.0          30    3.0  \n",
       "1                 220     -29.0          30    1.0  \n",
       "2                 220      -6.0         170  164.0  \n",
       "3                 220     -29.0          30    1.0  \n",
       "4                 220      18.0          45   63.0  \n",
       "...               ...       ...         ...    ...  \n",
       "2907              220     -17.0          55   38.0  \n",
       "2908              220       7.0          10   17.0  \n",
       "2909              220      -1.0         105  104.0  \n",
       "2910              220       3.0          20   23.0  \n",
       "2911              220       2.0          75   77.0  \n",
       "\n",
       "[2912 rows x 16 columns]"
      ]
     },
     "execution_count": 52,
     "metadata": {},
     "output_type": "execute_result"
    }
   ],
   "source": [
    "data_1800_res"
   ]
  },
  {
   "cell_type": "code",
   "execution_count": 89,
   "metadata": {},
   "outputs": [
    {
     "name": "stderr",
     "output_type": "stream",
     "text": [
      "/var/folders/1c/pphtjl397rnbdcp94xmwzkqr0000gn/T/ipykernel_3091/3834691857.py:25: UserWarning: Matplotlib is currently using agg, which is a non-GUI backend, so cannot show the figure.\n",
      "  plt.show()\n"
     ]
    }
   ],
   "source": [
    "# plot 10 time series with predicted change points vs. true change points\n",
    "fig, ax = plt.subplots(2, 3, figsize=(10, 4))\n",
    "ax = ax.flatten()\n",
    "\n",
    "for i in range(6):\n",
    "    ax[i].plot(data_1800_res['freq_scaled'][i], color='grey', linewidth=2, alpha=1)\n",
    "    ax[i].axvline(x=data_1800_res['prediction'][i], color='r', label='PELT', linewidth=2)\n",
    "    ax[i].axvline(x=data_1800_res['tlfi'][i], color='g', label='TLFi', linewidth=2)\n",
    "    ax[i].set_title(f'{data_1800_res[\"lemma\"][i]}')\n",
    "    ax[i].set_xticks(np.arange(0, 220, 40), np.arange(1800, 2020, 40))\n",
    "    \n",
    "    if i not in [2, 5]:\n",
    "        ax[i].text((data_1800_res['prediction'][i] + data_1800_res['tlfi'][i]) / 2, 0.57, \n",
    "                   f'{data_1800_res[\"residual\"][i].round(0).astype(int)}', \n",
    "                   ha='center', va='center', color='black', size=7,)\n",
    "        # add a two-sided arrow\n",
    "        ax[i].annotate('', xy=(data_1800_res['prediction'][i], 0.5), xytext=(data_1800_res['tlfi'][i], 0.5),\n",
    "                       arrowprops=dict(arrowstyle='<->', color='black'))\n",
    "\n",
    "handles, labels = ax[0].get_legend_handles_labels()\n",
    "fig.legend(handles, labels, loc='lower center', bbox_to_anchor=(0.5, -0.05), ncol=2, frameon=False)\n",
    "plt.tight_layout()\n",
    "# sns.despine()\n",
    "fig.savefig('../figures/age_estimations_10.pdf', bbox_inches='tight', dpi=400)\n",
    "plt.show()"
   ]
  },
  {
   "cell_type": "code",
   "execution_count": 72,
   "metadata": {},
   "outputs": [
    {
     "data": {
      "image/png": "[encoded data removed]",
      "text/plain": [
       "<Figure size 1000x400 with 1 Axes>"
      ]
     },
     "metadata": {},
     "output_type": "display_data"
    }
   ],
   "source": [
    "# plot the word 'caricaturiste'\n",
    "plt.figure(figsize=(10, 4))\n",
    "plt.plot(data_1800_res['freq_scaled'][data_1800_res['lemma'] == 'caricaturiste'].values[0], color='black', linewidth=2, alpha=0.5)\n",
    "\n",
    "plt.axvline(x=data_1800_res['prediction'][data_1800_res['lemma'] == 'caricaturiste'].values[0], color='r', label='Predicted')\n",
    "plt.axvline(x=data_1800_res['tlfi'][data_1800_res['lemma'] == 'caricaturiste'].values[0], color='g', label='TLFi')\n",
    "# add a two-sided arrow between the two vertical lines\n",
    "plt.annotate('', xy=(data_1800_res['prediction'][data_1800_res['lemma'] == 'caricaturiste'].values[0], 0.5), \n",
    "             xytext=(data_1800_res['tlfi'][data_1800_res['lemma'] == 'caricaturiste'].values[0], 0.5),\n",
    "             arrowprops=dict(arrowstyle='<->', color='black'))\n",
    "# add word residual on top of the arrow\n",
    "plt.text((data_1800_res['prediction'][data_1800_res['lemma'] == 'caricaturiste'].values[0] + data_1800_res['tlfi'][data_1800_res['lemma'] == 'caricaturiste'].values[0]) / 2, 0.55, \n",
    "         f'{data_1800_res[\"residual\"][data_1800_res[\"lemma\"] == \"caricaturiste\"].values[0]:.2f}', \n",
    "         ha='center', va='center', color='black')\n",
    "plt.title('caricaturiste')\n",
    "# legend at the bottom left in one row\n",
    "plt.legend(loc='lower center', bbox_to_anchor=(0.5, -0.2), ncol=2)\n",
    "# plt.legend()\n",
    "plt.show()"
   ]
  }
 ],
 "metadata": {
  "kernelspec": {
   "display_name": "Python 3",
   "language": "python",
   "name": "python3"
  },
  "language_info": {
   "codemirror_mode": {
    "name": "ipython",
    "version": 3
   },
   "file_extension": ".py",
   "mimetype": "text/x-python",
   "name": "python",
   "nbconvert_exporter": "python",
   "pygments_lexer": "ipython3",
   "version": "3.11.7"
  },
  "orig_nbformat": 4
 },
 "nbformat": 4,
 "nbformat_minor": 2
}

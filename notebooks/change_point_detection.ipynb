{
 "cells": [
  {
   "cell_type": "code",
   "execution_count": 157,
   "metadata": {},
   "outputs": [],
   "source": [
    "import pandas as pd\n",
    "import pickle\n",
    "import matplotlib.pyplot as plt\n",
    "import seaborn as sns\n",
    "import numpy as np\n",
    "\n",
    "import requests\n",
    "from tqdm.auto import tqdm\n",
    "import time\n",
    "\n",
    "# prediction imports\n",
    "from sklearn.base import BaseEstimator, RegressorMixin\n",
    "from sklearn.model_selection import train_test_split\n",
    "import ruptures as rpt\n",
    "\n",
    "sns.set_style('whitegrid')"
   ]
  },
  {
   "cell_type": "markdown",
   "metadata": {},
   "source": [
    "### 1. Data examination"
   ]
  },
  {
   "cell_type": "code",
   "execution_count": 2,
   "metadata": {},
   "outputs": [
    {
     "data": {
      "text/html": [
       "<div>\n",
       "<style scoped>\n",
       "    .dataframe tbody tr th:only-of-type {\n",
       "        vertical-align: middle;\n",
       "    }\n",
       "\n",
       "    .dataframe tbody tr th {\n",
       "        vertical-align: top;\n",
       "    }\n",
       "\n",
       "    .dataframe thead th {\n",
       "        text-align: right;\n",
       "    }\n",
       "</style>\n",
       "<table border=\"1\" class=\"dataframe\">\n",
       "  <thead>\n",
       "    <tr style=\"text-align: right;\">\n",
       "      <th></th>\n",
       "      <th>lemma_</th>\n",
       "      <th>count</th>\n",
       "      <th>pos</th>\n",
       "      <th>lemma</th>\n",
       "      <th>freq</th>\n",
       "      <th>pos_fr</th>\n",
       "      <th>number_of_meanings</th>\n",
       "      <th>etymology</th>\n",
       "      <th>age</th>\n",
       "    </tr>\n",
       "  </thead>\n",
       "  <tbody>\n",
       "    <tr>\n",
       "      <th>0</th>\n",
       "      <td>salon@NOUN</td>\n",
       "      <td>31950</td>\n",
       "      <td>NOUN</td>\n",
       "      <td>salon</td>\n",
       "      <td>6.085083e-05</td>\n",
       "      <td>substantif</td>\n",
       "      <td>6</td>\n",
       "      <td>1550.0</td>\n",
       "      <td>470.0</td>\n",
       "    </tr>\n",
       "    <tr>\n",
       "      <th>1</th>\n",
       "      <td>humoriste@NOUN</td>\n",
       "      <td>2731</td>\n",
       "      <td>NOUN</td>\n",
       "      <td>humoriste</td>\n",
       "      <td>5.201365e-06</td>\n",
       "      <td>substantif</td>\n",
       "      <td>1</td>\n",
       "      <td>1578.0</td>\n",
       "      <td>442.0</td>\n",
       "    </tr>\n",
       "    <tr>\n",
       "      <th>2</th>\n",
       "      <td>caricaturiste@NOUN</td>\n",
       "      <td>983</td>\n",
       "      <td>NOUN</td>\n",
       "      <td>caricaturiste</td>\n",
       "      <td>1.872187e-06</td>\n",
       "      <td>substantif</td>\n",
       "      <td>1</td>\n",
       "      <td>1803.0</td>\n",
       "      <td>217.0</td>\n",
       "    </tr>\n",
       "    <tr>\n",
       "      <th>3</th>\n",
       "      <td>dessinateur@NOUN</td>\n",
       "      <td>9436</td>\n",
       "      <td>NOUN</td>\n",
       "      <td>dessinateur</td>\n",
       "      <td>1.797147e-05</td>\n",
       "      <td>substantif</td>\n",
       "      <td>2</td>\n",
       "      <td>1667.0</td>\n",
       "      <td>353.0</td>\n",
       "    </tr>\n",
       "    <tr>\n",
       "      <th>4</th>\n",
       "      <td>humoristique@ADJ</td>\n",
       "      <td>5340</td>\n",
       "      <td>ADJ</td>\n",
       "      <td>humoristique</td>\n",
       "      <td>1.017037e-05</td>\n",
       "      <td>adjectif</td>\n",
       "      <td>1</td>\n",
       "      <td>1801.0</td>\n",
       "      <td>219.0</td>\n",
       "    </tr>\n",
       "    <tr>\n",
       "      <th>5</th>\n",
       "      <td>organiser@VERB</td>\n",
       "      <td>107773</td>\n",
       "      <td>VERB</td>\n",
       "      <td>organiser</td>\n",
       "      <td>2.052606e-04</td>\n",
       "      <td>verbe</td>\n",
       "      <td>4</td>\n",
       "      <td>1510.0</td>\n",
       "      <td>510.0</td>\n",
       "    </tr>\n",
       "    <tr>\n",
       "      <th>6</th>\n",
       "      <td>humoriste@ADJ</td>\n",
       "      <td>185</td>\n",
       "      <td>ADJ</td>\n",
       "      <td>humoriste</td>\n",
       "      <td>3.523444e-07</td>\n",
       "      <td>adjectif</td>\n",
       "      <td>1</td>\n",
       "      <td>1578.0</td>\n",
       "      <td>442.0</td>\n",
       "    </tr>\n",
       "    <tr>\n",
       "      <th>7</th>\n",
       "      <td>comité@NOUN</td>\n",
       "      <td>70991</td>\n",
       "      <td>NOUN</td>\n",
       "      <td>comité</td>\n",
       "      <td>1.352069e-04</td>\n",
       "      <td>substantif</td>\n",
       "      <td>2</td>\n",
       "      <td>1652.0</td>\n",
       "      <td>368.0</td>\n",
       "    </tr>\n",
       "    <tr>\n",
       "      <th>8</th>\n",
       "      <td>mondial@ADJ</td>\n",
       "      <td>168240</td>\n",
       "      <td>ADJ</td>\n",
       "      <td>mondial</td>\n",
       "      <td>3.204239e-04</td>\n",
       "      <td>adjectif</td>\n",
       "      <td>1</td>\n",
       "      <td>1550.0</td>\n",
       "      <td>470.0</td>\n",
       "    </tr>\n",
       "    <tr>\n",
       "      <th>9</th>\n",
       "      <td>gus@NOUN</td>\n",
       "      <td>341</td>\n",
       "      <td>NOUN</td>\n",
       "      <td>gus</td>\n",
       "      <td>6.494565e-07</td>\n",
       "      <td>substantif</td>\n",
       "      <td>1</td>\n",
       "      <td>1954.0</td>\n",
       "      <td>66.0</td>\n",
       "    </tr>\n",
       "  </tbody>\n",
       "</table>\n",
       "</div>"
      ],
      "text/plain": [
       "               lemma_   count   pos          lemma          freq      pos_fr  \\\n",
       "0          salon@NOUN   31950  NOUN          salon  6.085083e-05  substantif   \n",
       "1      humoriste@NOUN    2731  NOUN      humoriste  5.201365e-06  substantif   \n",
       "2  caricaturiste@NOUN     983  NOUN  caricaturiste  1.872187e-06  substantif   \n",
       "3    dessinateur@NOUN    9436  NOUN    dessinateur  1.797147e-05  substantif   \n",
       "4    humoristique@ADJ    5340   ADJ   humoristique  1.017037e-05    adjectif   \n",
       "5      organiser@VERB  107773  VERB      organiser  2.052606e-04       verbe   \n",
       "6       humoriste@ADJ     185   ADJ      humoriste  3.523444e-07    adjectif   \n",
       "7         comité@NOUN   70991  NOUN         comité  1.352069e-04  substantif   \n",
       "8         mondial@ADJ  168240   ADJ        mondial  3.204239e-04    adjectif   \n",
       "9            gus@NOUN     341  NOUN            gus  6.494565e-07  substantif   \n",
       "\n",
       "   number_of_meanings  etymology    age  \n",
       "0                   6     1550.0  470.0  \n",
       "1                   1     1578.0  442.0  \n",
       "2                   1     1803.0  217.0  \n",
       "3                   2     1667.0  353.0  \n",
       "4                   1     1801.0  219.0  \n",
       "5                   4     1510.0  510.0  \n",
       "6                   1     1578.0  442.0  \n",
       "7                   2     1652.0  368.0  \n",
       "8                   1     1550.0  470.0  \n",
       "9                   1     1954.0   66.0  "
      ]
     },
     "execution_count": 2,
     "metadata": {},
     "output_type": "execute_result"
    }
   ],
   "source": [
    "data = pd.read_csv('../data/age_estimations.csv')\n",
    "data.head(10)"
   ]
  },
  {
   "cell_type": "code",
   "execution_count": 3,
   "metadata": {},
   "outputs": [],
   "source": [
    "data['rank'] = data['count'].rank(ascending=False)"
   ]
  },
  {
   "cell_type": "code",
   "execution_count": 4,
   "metadata": {},
   "outputs": [
    {
     "data": {
      "text/plain": [
       "(10635, 10)"
      ]
     },
     "execution_count": 4,
     "metadata": {},
     "output_type": "execute_result"
    }
   ],
   "source": [
    "data.shape"
   ]
  },
  {
   "cell_type": "code",
   "execution_count": 5,
   "metadata": {},
   "outputs": [
    {
     "data": {
      "text/plain": [
       "0.18219039624483924"
      ]
     },
     "execution_count": 5,
     "metadata": {},
     "output_type": "execute_result"
    }
   ],
   "source": [
    "with open('../data/lemma_freq.pkl', 'rb') as f:\n",
    "    lemma_freq = pickle.load(f)\n",
    "\n",
    "# remove elements with count < 1000\n",
    "lemma_freq_ = {k: v for k, v in lemma_freq.items() if v['count'] > 100}\n",
    "\n",
    "# get all the lemmas that have same pos as in data['pos']\n",
    "lemma_freq_ = {k: v for k, v in lemma_freq_.items() if v['pos'] in data['pos'].unique()}\n",
    "\n",
    "# share of lemmas that appeared after the 1500s \n",
    "data.shape[0] / len(lemma_freq_)"
   ]
  },
  {
   "cell_type": "code",
   "execution_count": 12,
   "metadata": {},
   "outputs": [
    {
     "data": {
      "image/png": "[encoded data removed]",
      "text/plain": [
       "<Figure size 1500x500 with 3 Axes>"
      ]
     },
     "metadata": {},
     "output_type": "display_data"
    }
   ],
   "source": [
    "# plot distribuion of frequency, age, number of meanings in data on the same plot with 3 subplots\n",
    "fig, ax = plt.subplots(1, 3, figsize=(15, 5))\n",
    "# first axis should be rank-frequency plot from data['count']\n",
    "sns.scatterplot(x='rank', y='freq', data=data, ax=ax[0], linewidth = 0)\n",
    "sns.histplot(data['age'], stat='count', ax=ax[1])\n",
    "sns.histplot(data['number_of_meanings'], stat='count', ax=ax[2], bins=30)\n",
    "# log scales in axes 0 and 2\n",
    "# 1 axis should be log-log\n",
    "ax[0].set_yscale('log')\n",
    "ax[0].set_xscale('log')\n",
    "ax[2].set_yscale('log')\n",
    "# ax[2].set_xlim(1)\n",
    "# remove y axis labels for axes 1 and 2\n",
    "ax[0].set_ylabel('Frequency (log-scaled)')\n",
    "ax[1].set_ylabel('Count')\n",
    "ax[2].set_ylabel('Count (log-scaled)')\n",
    "ax[0].set_xlabel('Rank')\n",
    "ax[1].set_xlabel('Age')\n",
    "ax[2].set_xlabel('Number of meanings')\n",
    "plt.show()"
   ]
  },
  {
   "cell_type": "markdown",
   "metadata": {},
   "source": [
    "### 2. Get frequencies from n-gram"
   ]
  },
  {
   "cell_type": "code",
   "execution_count": 7,
   "metadata": {},
   "outputs": [],
   "source": [
    "def get_ngram(query, start_year=1800, end_year=2019, \n",
    "            corpus='fr-2019'):\n",
    "    time.sleep(np.random.uniform(0, 1))\n",
    "    url = f'https://books.google.com/ngrams/json?content={query}&year_start={start_year}&year_end={end_year}&corpus={corpus}&smoothing=0'\n",
    "    response = requests.get(url)\n",
    "    data = response.json() \n",
    "    return data[0]['timeseries'] if data else None"
   ]
  },
  {
   "cell_type": "code",
   "execution_count": 8,
   "metadata": {},
   "outputs": [
    {
     "data": {
      "text/plain": [
       "(4372, 10)"
      ]
     },
     "execution_count": 8,
     "metadata": {},
     "output_type": "execute_result"
    }
   ],
   "source": [
    "data_1800 = data[data['etymology'] > 1800]\n",
    "data_1800.shape"
   ]
  },
  {
   "cell_type": "code",
   "execution_count": 144,
   "metadata": {},
   "outputs": [],
   "source": [
    "# sample 100 lemmas from data_1800\n",
    "lemma_sample = data_1800.sample(1000, random_state=42)"
   ]
  },
  {
   "cell_type": "code",
   "execution_count": 145,
   "metadata": {},
   "outputs": [
    {
     "data": {
      "application/vnd.jupyter.widget-view+json": {
       "model_id": "b4d02777fcfd439d9ae417573efa2ba2",
       "version_major": 2,
       "version_minor": 0
      },
      "text/plain": [
       "  0%|          | 0/1000 [00:00<?, ?it/s]"
      ]
     },
     "metadata": {},
     "output_type": "display_data"
    }
   ],
   "source": [
    "# get ngram frequencies for each word and save them in a long format with columns word, year, freq, etymology\n",
    "\n",
    "freq = []\n",
    "for i, row in tqdm(lemma_sample.iterrows(), total=lemma_sample.shape[0]):\n",
    "    word = row['lemma']\n",
    "    etymology = row['etymology']\n",
    "    try:\n",
    "        ngram = get_ngram(word)\n",
    "        if ngram:\n",
    "            for i, freq_ in enumerate(ngram):\n",
    "                freq.append([word, i, freq_, etymology])\n",
    "    except:\n",
    "        pass\n",
    "\n",
    "df1800_freq = pd.DataFrame(freq, columns=['word', 'year', 'freq', 'etymology'])"
   ]
  },
  {
   "cell_type": "code",
   "execution_count": 146,
   "metadata": {},
   "outputs": [],
   "source": [
    "df1800_freq['freq_scaled'] = df1800_freq.groupby('word')['freq'].transform(lambda x: (x - x.min()) / (x.max() - x.min()))\n",
    "# convert df so that each word appears only once and has a column where the frequency time-series is stored as numpy array\n",
    "df1800_freq_ = df1800_freq.groupby('word')['freq_scaled'].apply(list).reset_index()\n",
    "df1800_freq_['freq_scaled'] = df1800_freq_['freq_scaled'].apply(lambda x: np.array(x))\n",
    "df1800_freq_['etymology'] = df1800_freq.groupby('word')['etymology'].apply(list).reset_index()['etymology'].apply(lambda x: x[0])"
   ]
  },
  {
   "cell_type": "code",
   "execution_count": 147,
   "metadata": {},
   "outputs": [
    {
     "data": {
      "text/html": [
       "<div>\n",
       "<style scoped>\n",
       "    .dataframe tbody tr th:only-of-type {\n",
       "        vertical-align: middle;\n",
       "    }\n",
       "\n",
       "    .dataframe tbody tr th {\n",
       "        vertical-align: top;\n",
       "    }\n",
       "\n",
       "    .dataframe thead th {\n",
       "        text-align: right;\n",
       "    }\n",
       "</style>\n",
       "<table border=\"1\" class=\"dataframe\">\n",
       "  <thead>\n",
       "    <tr style=\"text-align: right;\">\n",
       "      <th></th>\n",
       "      <th>word</th>\n",
       "      <th>freq_scaled</th>\n",
       "      <th>etymology</th>\n",
       "    </tr>\n",
       "  </thead>\n",
       "  <tbody>\n",
       "    <tr>\n",
       "      <th>0</th>\n",
       "      <td>abrasif</td>\n",
       "      <td>[0.0, 0.0, 0.0, 0.0, 0.0, 0.0, 0.0, 0.0, 0.0, ...</td>\n",
       "      <td>1907.0</td>\n",
       "    </tr>\n",
       "    <tr>\n",
       "      <th>1</th>\n",
       "      <td>absidiole</td>\n",
       "      <td>[0.01817126075051654, 0.0, 0.0, 0.014108650172...</td>\n",
       "      <td>1866.0</td>\n",
       "    </tr>\n",
       "    <tr>\n",
       "      <th>2</th>\n",
       "      <td>accordéoniste</td>\n",
       "      <td>[0.0, 0.0, 0.0, 0.0, 0.0, 0.0, 0.0, 0.0, 0.0, ...</td>\n",
       "      <td>1866.0</td>\n",
       "    </tr>\n",
       "    <tr>\n",
       "      <th>3</th>\n",
       "      <td>acculturation</td>\n",
       "      <td>[0.0, 0.0, 0.0, 0.0, 0.0, 0.0, 0.0, 0.0, 0.0, ...</td>\n",
       "      <td>1880.0</td>\n",
       "    </tr>\n",
       "    <tr>\n",
       "      <th>4</th>\n",
       "      <td>acrylique</td>\n",
       "      <td>[0.0, 0.0, 0.0, 0.0, 0.0, 0.0, 0.0, 0.0, 0.0, ...</td>\n",
       "      <td>1865.0</td>\n",
       "    </tr>\n",
       "    <tr>\n",
       "      <th>5</th>\n",
       "      <td>actualisation</td>\n",
       "      <td>[0.0, 0.0, 0.0, 0.0, 0.0, 0.0, 0.0005263380065...</td>\n",
       "      <td>1834.0</td>\n",
       "    </tr>\n",
       "    <tr>\n",
       "      <th>6</th>\n",
       "      <td>additif</td>\n",
       "      <td>[0.007755225156445234, 0.0318162150354673, 0.0...</td>\n",
       "      <td>1840.0</td>\n",
       "    </tr>\n",
       "    <tr>\n",
       "      <th>7</th>\n",
       "      <td>adventiste</td>\n",
       "      <td>[0.0, 0.0, 0.0, 0.0, 0.0, 0.0, 0.0, 0.0, 0.0, ...</td>\n",
       "      <td>1844.0</td>\n",
       "    </tr>\n",
       "    <tr>\n",
       "      <th>8</th>\n",
       "      <td>affairer</td>\n",
       "      <td>[0.4433018515944372, 0.33610428311704427, 0.52...</td>\n",
       "      <td>1888.0</td>\n",
       "    </tr>\n",
       "    <tr>\n",
       "      <th>9</th>\n",
       "      <td>agar</td>\n",
       "      <td>[0.0, 0.0016695956281689592, 0.003927234823929...</td>\n",
       "      <td>1820.0</td>\n",
       "    </tr>\n",
       "  </tbody>\n",
       "</table>\n",
       "</div>"
      ],
      "text/plain": [
       "            word                                        freq_scaled  etymology\n",
       "0        abrasif  [0.0, 0.0, 0.0, 0.0, 0.0, 0.0, 0.0, 0.0, 0.0, ...     1907.0\n",
       "1      absidiole  [0.01817126075051654, 0.0, 0.0, 0.014108650172...     1866.0\n",
       "2  accordéoniste  [0.0, 0.0, 0.0, 0.0, 0.0, 0.0, 0.0, 0.0, 0.0, ...     1866.0\n",
       "3  acculturation  [0.0, 0.0, 0.0, 0.0, 0.0, 0.0, 0.0, 0.0, 0.0, ...     1880.0\n",
       "4      acrylique  [0.0, 0.0, 0.0, 0.0, 0.0, 0.0, 0.0, 0.0, 0.0, ...     1865.0\n",
       "5  actualisation  [0.0, 0.0, 0.0, 0.0, 0.0, 0.0, 0.0005263380065...     1834.0\n",
       "6        additif  [0.007755225156445234, 0.0318162150354673, 0.0...     1840.0\n",
       "7     adventiste  [0.0, 0.0, 0.0, 0.0, 0.0, 0.0, 0.0, 0.0, 0.0, ...     1844.0\n",
       "8       affairer  [0.4433018515944372, 0.33610428311704427, 0.52...     1888.0\n",
       "9           agar  [0.0, 0.0016695956281689592, 0.003927234823929...     1820.0"
      ]
     },
     "execution_count": 147,
     "metadata": {},
     "output_type": "execute_result"
    }
   ],
   "source": [
    "df1800_freq_.head(10)"
   ]
  },
  {
   "cell_type": "markdown",
   "metadata": {},
   "source": [
    "### 3. Change point prediction"
   ]
  },
  {
   "cell_type": "code",
   "execution_count": 158,
   "metadata": {},
   "outputs": [],
   "source": [
    "class ChangePointRegressor(BaseEstimator, RegressorMixin):\n",
    "    def __init__(self, penalty=0.2, model=\"rbf\"):\n",
    "        self.penalty = penalty\n",
    "        self.model = model\n",
    "\n",
    "    def fit(self, X, y=None):\n",
    "        return self\n",
    "\n",
    "    def predict(self, X):\n",
    "        result = []\n",
    "\n",
    "        for time_series in X:\n",
    "            algo = rpt.Pelt(model=self.model).fit(time_series)\n",
    "            change_point = algo.predict(pen=self.penalty)[0]\n",
    "            result.append(change_point)\n",
    "\n",
    "        return np.array(result)\n",
    "\n",
    "    def get_params(self, deep=True):\n",
    "        return {\"penalty\": self.penalty}\n",
    "\n",
    "    def set_params(self, **parameters):\n",
    "        for parameter, value in parameters.items():\n",
    "            setattr(self, parameter, value)\n",
    "        return self\n"
   ]
  },
  {
   "cell_type": "code",
   "execution_count": 159,
   "metadata": {},
   "outputs": [],
   "source": [
    "def prepare_data(df):\n",
    "    max_length = max(len(seq) for seq in df['freq_scaled'])\n",
    "    X = np.zeros((len(df), max_length))\n",
    "\n",
    "    for i, seq in enumerate(df['freq_scaled']):\n",
    "        X[i, :len(seq)] = seq\n",
    "\n",
    "    y = np.array(df['etymology'])\n",
    "    y = abs(1800 - y)\n",
    "    return X, y"
   ]
  },
  {
   "cell_type": "code",
   "execution_count": 160,
   "metadata": {},
   "outputs": [],
   "source": [
    "X, y = prepare_data(df1800_freq_)"
   ]
  },
  {
   "cell_type": "code",
   "execution_count": 162,
   "metadata": {},
   "outputs": [],
   "source": [
    "X_train, X_test, y_train, y_test = train_test_split(X, y, test_size=.2, random_state=42)"
   ]
  },
  {
   "cell_type": "code",
   "execution_count": 151,
   "metadata": {},
   "outputs": [],
   "source": [
    "# use GridSearchCV to find the best penalty value for the classifier and the best model ('rbf', 'l1, 'l2')\n",
    "from sklearn.model_selection import GridSearchCV\n",
    "\n",
    "param_grid = {'penalty': np.linspace(0, 1, 10), 'model': ['rbf', 'l1', 'l2']}\n",
    "\n",
    "clf = GridSearchCV(ChangePointRegressor(), \n",
    "                   param_grid, \n",
    "                   cv=5, \n",
    "                   scoring='explained_variance', \n",
    "                   n_jobs=-1 )"
   ]
  },
  {
   "cell_type": "code",
   "execution_count": 163,
   "metadata": {},
   "outputs": [
    {
     "data": {
      "text/html": [
       "<style>#sk-container-id-13 {color: black;background-color: white;}#sk-container-id-13 pre{padding: 0;}#sk-container-id-13 div.sk-toggleable {background-color: white;}#sk-container-id-13 label.sk-toggleable__label {cursor: pointer;display: block;width: 100%;margin-bottom: 0;padding: 0.3em;box-sizing: border-box;text-align: center;}#sk-container-id-13 label.sk-toggleable__label-arrow:before {content: \"▸\";float: left;margin-right: 0.25em;color: #696969;}#sk-container-id-13 label.sk-toggleable__label-arrow:hover:before {color: black;}#sk-container-id-13 div.sk-estimator:hover label.sk-toggleable__label-arrow:before {color: black;}#sk-container-id-13 div.sk-toggleable__content {max-height: 0;max-width: 0;overflow: hidden;text-align: left;background-color: #f0f8ff;}#sk-container-id-13 div.sk-toggleable__content pre {margin: 0.2em;color: black;border-radius: 0.25em;background-color: #f0f8ff;}#sk-container-id-13 input.sk-toggleable__control:checked~div.sk-toggleable__content {max-height: 200px;max-width: 100%;overflow: auto;}#sk-container-id-13 input.sk-toggleable__control:checked~label.sk-toggleable__label-arrow:before {content: \"▾\";}#sk-container-id-13 div.sk-estimator input.sk-toggleable__control:checked~label.sk-toggleable__label {background-color: #d4ebff;}#sk-container-id-13 div.sk-label input.sk-toggleable__control:checked~label.sk-toggleable__label {background-color: #d4ebff;}#sk-container-id-13 input.sk-hidden--visually {border: 0;clip: rect(1px 1px 1px 1px);clip: rect(1px, 1px, 1px, 1px);height: 1px;margin: -1px;overflow: hidden;padding: 0;position: absolute;width: 1px;}#sk-container-id-13 div.sk-estimator {font-family: monospace;background-color: #f0f8ff;border: 1px dotted black;border-radius: 0.25em;box-sizing: border-box;margin-bottom: 0.5em;}#sk-container-id-13 div.sk-estimator:hover {background-color: #d4ebff;}#sk-container-id-13 div.sk-parallel-item::after {content: \"\";width: 100%;border-bottom: 1px solid gray;flex-grow: 1;}#sk-container-id-13 div.sk-label:hover label.sk-toggleable__label {background-color: #d4ebff;}#sk-container-id-13 div.sk-serial::before {content: \"\";position: absolute;border-left: 1px solid gray;box-sizing: border-box;top: 0;bottom: 0;left: 50%;z-index: 0;}#sk-container-id-13 div.sk-serial {display: flex;flex-direction: column;align-items: center;background-color: white;padding-right: 0.2em;padding-left: 0.2em;position: relative;}#sk-container-id-13 div.sk-item {position: relative;z-index: 1;}#sk-container-id-13 div.sk-parallel {display: flex;align-items: stretch;justify-content: center;background-color: white;position: relative;}#sk-container-id-13 div.sk-item::before, #sk-container-id-13 div.sk-parallel-item::before {content: \"\";position: absolute;border-left: 1px solid gray;box-sizing: border-box;top: 0;bottom: 0;left: 50%;z-index: -1;}#sk-container-id-13 div.sk-parallel-item {display: flex;flex-direction: column;z-index: 1;position: relative;background-color: white;}#sk-container-id-13 div.sk-parallel-item:first-child::after {align-self: flex-end;width: 50%;}#sk-container-id-13 div.sk-parallel-item:last-child::after {align-self: flex-start;width: 50%;}#sk-container-id-13 div.sk-parallel-item:only-child::after {width: 0;}#sk-container-id-13 div.sk-dashed-wrapped {border: 1px dashed gray;margin: 0 0.4em 0.5em 0.4em;box-sizing: border-box;padding-bottom: 0.4em;background-color: white;}#sk-container-id-13 div.sk-label label {font-family: monospace;font-weight: bold;display: inline-block;line-height: 1.2em;}#sk-container-id-13 div.sk-label-container {text-align: center;}#sk-container-id-13 div.sk-container {/* jupyter's `normalize.less` sets `[hidden] { display: none; }` but bootstrap.min.css set `[hidden] { display: none !important; }` so we also need the `!important` here to be able to override the default hidden behavior on the sphinx rendered scikit-learn.org. See: https://github.com/scikit-learn/scikit-learn/issues/21755 */display: inline-block !important;position: relative;}#sk-container-id-13 div.sk-text-repr-fallback {display: none;}</style><div id=\"sk-container-id-13\" class=\"sk-top-container\"><div class=\"sk-text-repr-fallback\"><pre>GridSearchCV(cv=5, estimator=ChangePointRegressor(), n_jobs=-1,\n",
       "             param_grid={&#x27;model&#x27;: [&#x27;rbf&#x27;, &#x27;l1&#x27;, &#x27;l2&#x27;],\n",
       "                         &#x27;penalty&#x27;: array([0.        , 0.11111111, 0.22222222, 0.33333333, 0.44444444,\n",
       "       0.55555556, 0.66666667, 0.77777778, 0.88888889, 1.        ])},\n",
       "             scoring=&#x27;explained_variance&#x27;)</pre><b>In a Jupyter environment, please rerun this cell to show the HTML representation or trust the notebook. <br />On GitHub, the HTML representation is unable to render, please try loading this page with nbviewer.org.</b></div><div class=\"sk-container\" hidden><div class=\"sk-item sk-dashed-wrapped\"><div class=\"sk-label-container\"><div class=\"sk-label sk-toggleable\"><input class=\"sk-toggleable__control sk-hidden--visually\" id=\"sk-estimator-id-35\" type=\"checkbox\" ><label for=\"sk-estimator-id-35\" class=\"sk-toggleable__label sk-toggleable__label-arrow\">GridSearchCV</label><div class=\"sk-toggleable__content\"><pre>GridSearchCV(cv=5, estimator=ChangePointRegressor(), n_jobs=-1,\n",
       "             param_grid={&#x27;model&#x27;: [&#x27;rbf&#x27;, &#x27;l1&#x27;, &#x27;l2&#x27;],\n",
       "                         &#x27;penalty&#x27;: array([0.        , 0.11111111, 0.22222222, 0.33333333, 0.44444444,\n",
       "       0.55555556, 0.66666667, 0.77777778, 0.88888889, 1.        ])},\n",
       "             scoring=&#x27;explained_variance&#x27;)</pre></div></div></div><div class=\"sk-parallel\"><div class=\"sk-parallel-item\"><div class=\"sk-item\"><div class=\"sk-label-container\"><div class=\"sk-label sk-toggleable\"><input class=\"sk-toggleable__control sk-hidden--visually\" id=\"sk-estimator-id-36\" type=\"checkbox\" ><label for=\"sk-estimator-id-36\" class=\"sk-toggleable__label sk-toggleable__label-arrow\">estimator: ChangePointRegressor</label><div class=\"sk-toggleable__content\"><pre>ChangePointRegressor()</pre></div></div></div><div class=\"sk-serial\"><div class=\"sk-item\"><div class=\"sk-estimator sk-toggleable\"><input class=\"sk-toggleable__control sk-hidden--visually\" id=\"sk-estimator-id-37\" type=\"checkbox\" ><label for=\"sk-estimator-id-37\" class=\"sk-toggleable__label sk-toggleable__label-arrow\">ChangePointRegressor</label><div class=\"sk-toggleable__content\"><pre>ChangePointRegressor()</pre></div></div></div></div></div></div></div></div></div></div>"
      ],
      "text/plain": [
       "GridSearchCV(cv=5, estimator=ChangePointRegressor(), n_jobs=-1,\n",
       "             param_grid={'model': ['rbf', 'l1', 'l2'],\n",
       "                         'penalty': array([0.        , 0.11111111, 0.22222222, 0.33333333, 0.44444444,\n",
       "       0.55555556, 0.66666667, 0.77777778, 0.88888889, 1.        ])},\n",
       "             scoring='explained_variance')"
      ]
     },
     "execution_count": 163,
     "metadata": {},
     "output_type": "execute_result"
    }
   ],
   "source": [
    "clf.fit(X_train, y_train)"
   ]
  },
  {
   "cell_type": "code",
   "execution_count": 164,
   "metadata": {},
   "outputs": [
    {
     "data": {
      "text/plain": [
       "{'model': 'l1', 'penalty': 0.1111111111111111}"
      ]
     },
     "execution_count": 164,
     "metadata": {},
     "output_type": "execute_result"
    }
   ],
   "source": [
    "clf.best_params_"
   ]
  },
  {
   "cell_type": "code",
   "execution_count": 165,
   "metadata": {},
   "outputs": [
    {
     "data": {
      "text/plain": [
       "0.3049570599396361"
      ]
     },
     "execution_count": 165,
     "metadata": {},
     "output_type": "execute_result"
    }
   ],
   "source": [
    "clf.best_score_"
   ]
  },
  {
   "cell_type": "code",
   "execution_count": 170,
   "metadata": {},
   "outputs": [
    {
     "data": {
      "image/png": "[encoded data removed]",
      "text/plain": [
       "<Figure size 500x500 with 1 Axes>"
      ]
     },
     "metadata": {},
     "output_type": "display_data"
    }
   ],
   "source": [
    "# pass clf.best_params_ to ChangePointRegressor and fit it on the whole dataset\n",
    "model = ChangePointRegressor(**clf.best_params_)\n",
    "model.fit(X_test, y_test)\n",
    "\n",
    "# plot predicted vs true\n",
    "y_pred = model.predict(X_test)\n",
    "\n",
    "plt.figure(figsize=(5, 5))\n",
    "plt.scatter(y_test, y_pred)\n",
    "plt.xlabel('True etymology')\n",
    "plt.ylabel('Predicted etymology')\n",
    "# add the amount of explained variance in top left corner\n",
    "plt.text(0.05, 0.95, f'Explained variance: {clf.best_score_:.3f}', \n",
    "         transform=plt.gca().transAxes, color='red')\n",
    "plt.show()"
   ]
  },
  {
   "cell_type": "code",
   "execution_count": 168,
   "metadata": {},
   "outputs": [
    {
     "data": {
      "image/png": "[encoded data removed]",
      "text/plain": [
       "<Figure size 700x300 with 1 Axes>"
      ]
     },
     "metadata": {},
     "output_type": "display_data"
    }
   ],
   "source": [
    "# plot residuals\n",
    "plt.figure(figsize=(7, 3))\n",
    "plt.scatter(y_test, y_pred - y_test)\n",
    "plt.xlabel('True etymology')\n",
    "plt.ylabel('Residual')\n",
    "plt.show()"
   ]
  }
 ],
 "metadata": {
  "kernelspec": {
   "display_name": "Python 3",
   "language": "python",
   "name": "python3"
  },
  "language_info": {
   "codemirror_mode": {
    "name": "ipython",
    "version": 3
   },
   "file_extension": ".py",
   "mimetype": "text/x-python",
   "name": "python",
   "nbconvert_exporter": "python",
   "pygments_lexer": "ipython3",
   "version": "3.11.3"
  },
  "orig_nbformat": 4
 },
 "nbformat": 4,
 "nbformat_minor": 2
}

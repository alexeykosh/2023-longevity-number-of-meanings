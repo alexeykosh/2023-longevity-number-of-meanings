{
 "cells": [
  {
   "cell_type": "code",
   "execution_count": 1,
   "metadata": {},
   "outputs": [],
   "source": [
    "import pandas as pd\n",
    "import networkx as nx\n",
    "import matplotlib.pyplot as plt"
   ]
  },
  {
   "cell_type": "code",
   "execution_count": 2,
   "metadata": {},
   "outputs": [],
   "source": [
    "deriv_data = pd.read_csv('../data/fra.derivational.v1.tsv', sep = '\\t', header = None)\n",
    "deriv_data.columns = ['form1', 'form2', 'form1_pos', 'form2_pos', 'morpheme', 'type']"
   ]
  },
  {
   "cell_type": "code",
   "execution_count": 3,
   "metadata": {},
   "outputs": [],
   "source": [
    "deriv_data = deriv_data.query('form1_pos != form2_pos')"
   ]
  },
  {
   "cell_type": "code",
   "execution_count": 4,
   "metadata": {},
   "outputs": [],
   "source": [
    "# count transitions from form1_pos to form2_pos\n",
    "transitions = deriv_data.groupby(['form1_pos', 'form2_pos'])['form1'].count()\n",
    "# convert to percentages inside each form1_pos group\n",
    "transitions = transitions.groupby(level=0).apply(lambda x: 100 * x / float(x.sum())).apply(lambda x: round(x, 2))\n",
    "# delete first level of index\n",
    "transitions = transitions.reset_index(level=0, drop=True)"
   ]
  },
  {
   "cell_type": "code",
   "execution_count": 5,
   "metadata": {},
   "outputs": [
    {
     "data": {
      "text/plain": [
       "form1_pos  form2_pos\n",
       "J          N            51.91\n",
       "           R            35.70\n",
       "           U             0.01\n",
       "           V            12.38\n",
       "N          J            72.24\n",
       "           R             1.10\n",
       "           U             0.17\n",
       "           V            26.50\n",
       "R          J            14.71\n",
       "           N            55.88\n",
       "           U             2.94\n",
       "           V            26.47\n",
       "U          J            14.63\n",
       "           N            63.41\n",
       "           R             4.88\n",
       "           V            17.07\n",
       "V          J            22.48\n",
       "           N            77.37\n",
       "           R             0.13\n",
       "           U             0.01\n",
       "Name: form1, dtype: float64"
      ]
     },
     "execution_count": 5,
     "metadata": {},
     "output_type": "execute_result"
    }
   ],
   "source": [
    "transitions"
   ]
  },
  {
   "cell_type": "code",
   "execution_count": 6,
   "metadata": {},
   "outputs": [],
   "source": [
    "# count transitions from form1_pos to form2_pos in deriv_data\n",
    "deriv_data['transition'] = deriv_data['form1_pos'] + ' -> ' + deriv_data['form2_pos']"
   ]
  },
  {
   "cell_type": "code",
   "execution_count": 7,
   "metadata": {},
   "outputs": [
    {
     "data": {
      "text/plain": [
       "transition\n",
       "V -> N    10971\n",
       "N -> J    10404\n",
       "J -> N     3942\n",
       "N -> V     3816\n",
       "V -> J     3188\n",
       "J -> R     2711\n",
       "J -> V      940\n",
       "N -> R      158\n",
       "U -> N       26\n",
       "N -> U       24\n",
       "R -> N       19\n",
       "V -> R       18\n",
       "R -> V        9\n",
       "U -> V        7\n",
       "U -> J        6\n",
       "R -> J        5\n",
       "U -> R        2\n",
       "V -> U        2\n",
       "R -> U        1\n",
       "J -> U        1\n",
       "Name: count, dtype: int64"
      ]
     },
     "execution_count": 7,
     "metadata": {},
     "output_type": "execute_result"
    }
   ],
   "source": [
    "deriv_data['transition'].value_counts()"
   ]
  },
  {
   "cell_type": "code",
   "execution_count": 10,
   "metadata": {},
   "outputs": [],
   "source": [
    "# compute the number of times each pos is either a source or a target\n",
    "source_counts = deriv_data['form1_pos'].value_counts()\n",
    "target_counts = deriv_data['form2_pos'].value_counts()\n",
    "\n"
   ]
  },
  {
   "cell_type": "code",
   "execution_count": 11,
   "metadata": {},
   "outputs": [
    {
     "data": {
      "text/plain": [
       "form1_pos\n",
       "N    14402\n",
       "V    14179\n",
       "J     7594\n",
       "U       41\n",
       "R       34\n",
       "Name: count, dtype: int64"
      ]
     },
     "execution_count": 11,
     "metadata": {},
     "output_type": "execute_result"
    }
   ],
   "source": [
    "source_counts"
   ]
  },
  {
   "cell_type": "code",
   "execution_count": 12,
   "metadata": {},
   "outputs": [
    {
     "data": {
      "text/plain": [
       "form2_pos\n",
       "N    14958\n",
       "J    13603\n",
       "V     4772\n",
       "R     2889\n",
       "U       28\n",
       "Name: count, dtype: int64"
      ]
     },
     "execution_count": 12,
     "metadata": {},
     "output_type": "execute_result"
    }
   ],
   "source": [
    "target_counts"
   ]
  },
  {
   "cell_type": "code",
   "execution_count": null,
   "metadata": {},
   "outputs": [],
   "source": []
  }
 ],
 "metadata": {
  "kernelspec": {
   "display_name": "Python 3",
   "language": "python",
   "name": "python3"
  },
  "language_info": {
   "codemirror_mode": {
    "name": "ipython",
    "version": 3
   },
   "file_extension": ".py",
   "mimetype": "text/x-python",
   "name": "python",
   "nbconvert_exporter": "python",
   "pygments_lexer": "ipython3",
   "version": "3.11.2"
  }
 },
 "nbformat": 4,
 "nbformat_minor": 2
}
